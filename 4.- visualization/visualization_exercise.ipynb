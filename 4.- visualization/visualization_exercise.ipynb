{
 "cells": [
  {
   "cell_type": "markdown",
   "id": "6bd8d62d",
   "metadata": {},
   "source": [
    "## Introduction to Visualization\n",
    "\n",
    "#### **Name:Angel Aaron Carrillo Diaz** <insert name>"
   ]
  },
  {
   "cell_type": "code",
   "execution_count": 1,
   "id": "12dc1a2a",
   "metadata": {},
   "outputs": [
    {
     "ename": "ModuleNotFoundError",
     "evalue": "No module named 'matplotlib'",
     "output_type": "error",
     "traceback": [
      "\u001b[31m---------------------------------------------------------------------------\u001b[39m",
      "\u001b[31mModuleNotFoundError\u001b[39m                       Traceback (most recent call last)",
      "\u001b[36mCell\u001b[39m\u001b[36m \u001b[39m\u001b[32mIn[1]\u001b[39m\u001b[32m, line 1\u001b[39m\n\u001b[32m----> \u001b[39m\u001b[32m1\u001b[39m \u001b[38;5;28;01mimport\u001b[39;00m\u001b[38;5;250m \u001b[39m\u001b[34;01mmatplotlib\u001b[39;00m\u001b[34;01m.\u001b[39;00m\u001b[34;01m_pyplot\u001b[39;00m\u001b[38;5;250m \u001b[39m\u001b[38;5;28;01mas\u001b[39;00m\u001b[38;5;250m \u001b[39m\u001b[34;01mplt\u001b[39;00m\n\u001b[32m      2\u001b[39m \u001b[38;5;28;01mimport\u001b[39;00m\u001b[38;5;250m \u001b[39m\u001b[34;01mseaborn\u001b[39;00m\u001b[38;5;250m \u001b[39m\u001b[38;5;28;01mas\u001b[39;00m\u001b[38;5;250m \u001b[39m\u001b[34;01msns\u001b[39;00m\n",
      "\u001b[31mModuleNotFoundError\u001b[39m: No module named 'matplotlib'"
     ]
    }
   ],
   "source": [
    "import matplotlib._pyplot as plt\n",
    "import seaborn as sns"
   ]
  },
  {
   "cell_type": "code",
   "execution_count": null,
   "id": "23fc8418",
   "metadata": {},
   "outputs": [],
   "source": [
    "years = [2010, 2011, 2012, 2013]\n",
    "sales = [100, 120, 140, 160]"
   ]
  },
  {
   "cell_type": "code",
   "execution_count": null,
   "id": "d72ee10d",
   "metadata": {},
   "outputs": [],
   "source": [
    "plt.plot(years, sales, color ='blue', marker=\"o\")\n",
    "plt.title(\"Sales over the years\")\n",
    "plt.xlabel(\"Years\")\n",
    "plt.ylabel(\"Sales\")\n",
    "plt.legend()\n",
    "plt.show()"
   ]
  },
  {
   "cell_type": "code",
   "execution_count": null,
   "id": "8694b056",
   "metadata": {},
   "outputs": [],
   "source": [
    "categories = [\"Electronics\", \"Clothing\", \"Furniture\"]\n",
    "revenue = [250, 400, 150]"
   ]
  },
  {
   "cell_type": "code",
   "execution_count": null,
   "id": "563bbfda",
   "metadata": {},
   "outputs": [],
   "source": [
    "hours_studied = [1,2,3,4,5]\n",
    "exam_score = [50, 55, 67, 80, 90]"
   ]
  },
  {
   "cell_type": "code",
   "execution_count": null,
   "id": "4637a4be",
   "metadata": {},
   "outputs": [],
   "source": [
    "plt.scatter(hours_studied, exam_score, color'red')\n",
    "plt.title(\"Study hours studied\")"
   ]
  }
 ],
 "metadata": {
  "kernelspec": {
   "display_name": "Python 3",
   "language": "python",
   "name": "python3"
  },
  "language_info": {
   "codemirror_mode": {
    "name": "ipython",
    "version": 3
   },
   "file_extension": ".py",
   "mimetype": "text/x-python",
   "name": "python",
   "nbconvert_exporter": "python",
   "pygments_lexer": "ipython3",
   "version": "3.13.3"
  }
 },
 "nbformat": 4,
 "nbformat_minor": 5
}
